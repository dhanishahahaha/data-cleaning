{
 "cells": [
  {
   "cell_type": "markdown",
   "id": "c2e8d963",
   "metadata": {
    "papermill": {
     "duration": 0.005958,
     "end_time": "2023-02-27T18:29:55.495881",
     "exception": false,
     "start_time": "2023-02-27T18:29:55.489923",
     "status": "completed"
    },
    "tags": []
   },
   "source": [
    "**This notebook is an exercise in the [Data Cleaning](https://www.kaggle.com/learn/data-cleaning) course.  You can reference the tutorial at [this link](https://www.kaggle.com/alexisbcook/character-encodings).**\n",
    "\n",
    "---\n"
   ]
  },
  {
   "cell_type": "markdown",
   "id": "03f583bd",
   "metadata": {
    "papermill": {
     "duration": 0.004417,
     "end_time": "2023-02-27T18:29:55.505347",
     "exception": false,
     "start_time": "2023-02-27T18:29:55.500930",
     "status": "completed"
    },
    "tags": []
   },
   "source": [
    "In this exercise, you'll apply what you learned in the **Character encodings** tutorial.\n",
    "\n",
    "# Setup\n",
    "\n",
    "The questions below will give you feedback on your work. Run the following cell to set up the feedback system."
   ]
  },
  {
   "cell_type": "code",
   "execution_count": 1,
   "id": "bd6b74ca",
   "metadata": {
    "execution": {
     "iopub.execute_input": "2023-02-27T18:29:55.517473Z",
     "iopub.status.busy": "2023-02-27T18:29:55.516488Z",
     "iopub.status.idle": "2023-02-27T18:29:55.605582Z",
     "shell.execute_reply": "2023-02-27T18:29:55.604521Z"
    },
    "papermill": {
     "duration": 0.098893,
     "end_time": "2023-02-27T18:29:55.608908",
     "exception": false,
     "start_time": "2023-02-27T18:29:55.510015",
     "status": "completed"
    },
    "tags": []
   },
   "outputs": [
    {
     "name": "stdout",
     "output_type": "stream",
     "text": [
      "Setup Complete\n"
     ]
    }
   ],
   "source": [
    "from learntools.core import binder\n",
    "binder.bind(globals())\n",
    "from learntools.data_cleaning.ex4 import *\n",
    "print(\"Setup Complete\")"
   ]
  },
  {
   "cell_type": "markdown",
   "id": "b58389f8",
   "metadata": {
    "papermill": {
     "duration": 0.00466,
     "end_time": "2023-02-27T18:29:55.619340",
     "exception": false,
     "start_time": "2023-02-27T18:29:55.614680",
     "status": "completed"
    },
    "tags": []
   },
   "source": [
    "# Get our environment set up\n",
    "\n",
    "The first thing we'll need to do is load in the libraries we'll be using."
   ]
  },
  {
   "cell_type": "code",
   "execution_count": 2,
   "id": "7ed48411",
   "metadata": {
    "execution": {
     "iopub.execute_input": "2023-02-27T18:29:55.630419Z",
     "iopub.status.busy": "2023-02-27T18:29:55.629983Z",
     "iopub.status.idle": "2023-02-27T18:29:55.635691Z",
     "shell.execute_reply": "2023-02-27T18:29:55.634515Z"
    },
    "papermill": {
     "duration": 0.014108,
     "end_time": "2023-02-27T18:29:55.638144",
     "exception": false,
     "start_time": "2023-02-27T18:29:55.624036",
     "status": "completed"
    },
    "tags": []
   },
   "outputs": [],
   "source": [
    "# modules we'll use\n",
    "import pandas as pd\n",
    "import numpy as np\n",
    "\n",
    "# helpful character encoding module\n",
    "import charset_normalizer\n",
    "\n",
    "# set seed for reproducibility\n",
    "np.random.seed(0)"
   ]
  },
  {
   "cell_type": "markdown",
   "id": "a481af5e",
   "metadata": {
    "papermill": {
     "duration": 0.004525,
     "end_time": "2023-02-27T18:29:55.647426",
     "exception": false,
     "start_time": "2023-02-27T18:29:55.642901",
     "status": "completed"
    },
    "tags": []
   },
   "source": [
    "# 1) What are encodings?\n",
    "\n",
    "You're working with a dataset composed of bytes.  Run the code cell below to print a sample entry."
   ]
  },
  {
   "cell_type": "code",
   "execution_count": 3,
   "id": "f4d5e3ac",
   "metadata": {
    "execution": {
     "iopub.execute_input": "2023-02-27T18:29:55.658868Z",
     "iopub.status.busy": "2023-02-27T18:29:55.657978Z",
     "iopub.status.idle": "2023-02-27T18:29:55.664806Z",
     "shell.execute_reply": "2023-02-27T18:29:55.663313Z"
    },
    "papermill": {
     "duration": 0.016314,
     "end_time": "2023-02-27T18:29:55.668324",
     "exception": false,
     "start_time": "2023-02-27T18:29:55.652010",
     "status": "completed"
    },
    "tags": []
   },
   "outputs": [
    {
     "name": "stdout",
     "output_type": "stream",
     "text": [
      "b'\\xa7A\\xa6n'\n",
      "data type: <class 'bytes'>\n"
     ]
    }
   ],
   "source": [
    "sample_entry = b'\\xa7A\\xa6n'\n",
    "print(sample_entry)\n",
    "print('data type:', type(sample_entry))"
   ]
  },
  {
   "cell_type": "markdown",
   "id": "86b75522",
   "metadata": {
    "papermill": {
     "duration": 0.004679,
     "end_time": "2023-02-27T18:29:55.678031",
     "exception": false,
     "start_time": "2023-02-27T18:29:55.673352",
     "status": "completed"
    },
    "tags": []
   },
   "source": [
    "You notice that it doesn't use the standard UTF-8 encoding. \n",
    "\n",
    "Use the next code cell to create a variable `new_entry` that changes the encoding from `\"big5-tw\"` to `\"utf-8\"`.  `new_entry` should have the bytes datatype."
   ]
  },
  {
   "cell_type": "code",
   "execution_count": 4,
   "id": "6700601d",
   "metadata": {
    "execution": {
     "iopub.execute_input": "2023-02-27T18:29:55.689685Z",
     "iopub.status.busy": "2023-02-27T18:29:55.689266Z",
     "iopub.status.idle": "2023-02-27T18:29:55.698566Z",
     "shell.execute_reply": "2023-02-27T18:29:55.697785Z"
    },
    "papermill": {
     "duration": 0.018187,
     "end_time": "2023-02-27T18:29:55.701074",
     "exception": false,
     "start_time": "2023-02-27T18:29:55.682887",
     "status": "completed"
    },
    "tags": []
   },
   "outputs": [
    {
     "data": {
      "application/javascript": [
       "parent.postMessage({\"jupyterEvent\": \"custom.exercise_interaction\", \"data\": {\"outcomeType\": 1, \"valueTowardsCompletion\": 0.3333333333333333, \"interactionType\": 1, \"questionType\": 1, \"questionId\": \"1_EncodingsIntro\", \"learnToolsVersion\": \"0.3.4\", \"failureMessage\": \"\", \"exceptionClass\": \"\", \"trace\": \"\"}}, \"*\")"
      ],
      "text/plain": [
       "<IPython.core.display.Javascript object>"
      ]
     },
     "metadata": {},
     "output_type": "display_data"
    },
    {
     "data": {
      "text/markdown": [
       "<span style=\"color:#33cc33\">Correct</span>"
      ],
      "text/plain": [
       "Correct"
      ]
     },
     "metadata": {},
     "output_type": "display_data"
    }
   ],
   "source": [
    "before = sample_entry.decode(\"big5-tw\")\n",
    "new_entry = before.encode()\n",
    "# Check your answer\n",
    "q1.check()"
   ]
  },
  {
   "cell_type": "code",
   "execution_count": 5,
   "id": "0fbf0b07",
   "metadata": {
    "execution": {
     "iopub.execute_input": "2023-02-27T18:29:55.713557Z",
     "iopub.status.busy": "2023-02-27T18:29:55.712555Z",
     "iopub.status.idle": "2023-02-27T18:29:55.722152Z",
     "shell.execute_reply": "2023-02-27T18:29:55.720961Z"
    },
    "papermill": {
     "duration": 0.018625,
     "end_time": "2023-02-27T18:29:55.724735",
     "exception": false,
     "start_time": "2023-02-27T18:29:55.706110",
     "status": "completed"
    },
    "tags": []
   },
   "outputs": [
    {
     "data": {
      "application/javascript": [
       "parent.postMessage({\"jupyterEvent\": \"custom.exercise_interaction\", \"data\": {\"interactionType\": 3, \"questionType\": 1, \"questionId\": \"1_EncodingsIntro\", \"learnToolsVersion\": \"0.3.4\", \"valueTowardsCompletion\": 0.0, \"failureMessage\": \"\", \"exceptionClass\": \"\", \"trace\": \"\", \"outcomeType\": 4}}, \"*\")"
      ],
      "text/plain": [
       "<IPython.core.display.Javascript object>"
      ]
     },
     "metadata": {},
     "output_type": "display_data"
    },
    {
     "data": {
      "text/markdown": [
       "<span style=\"color:#33cc99\">Solution:</span> \n",
       "```python\n",
       "before = sample_entry.decode(\"big5-tw\")\n",
       "new_entry = before.encode()\n",
       "\n",
       "```"
      ],
      "text/plain": [
       "Solution: \n",
       "```python\n",
       "before = sample_entry.decode(\"big5-tw\")\n",
       "new_entry = before.encode()\n",
       "\n",
       "```"
      ]
     },
     "metadata": {},
     "output_type": "display_data"
    }
   ],
   "source": [
    "# Lines below will give you a hint or solution code\n",
    "#q1.hint()\n",
    "q1.solution()"
   ]
  },
  {
   "cell_type": "markdown",
   "id": "12c5c251",
   "metadata": {
    "papermill": {
     "duration": 0.005076,
     "end_time": "2023-02-27T18:29:55.735060",
     "exception": false,
     "start_time": "2023-02-27T18:29:55.729984",
     "status": "completed"
    },
    "tags": []
   },
   "source": [
    "# 2) Reading in files with encoding problems\n",
    "\n",
    "Use the code cell below to read in this file at path `\"../input/fatal-police-shootings-in-the-us/PoliceKillingsUS.csv\"`.  \n",
    "\n",
    "Figure out what the correct encoding should be and read in the file to a DataFrame `police_killings`."
   ]
  },
  {
   "cell_type": "code",
   "execution_count": 6,
   "id": "9fae4754",
   "metadata": {
    "execution": {
     "iopub.execute_input": "2023-02-27T18:29:55.747842Z",
     "iopub.status.busy": "2023-02-27T18:29:55.747419Z",
     "iopub.status.idle": "2023-02-27T18:29:55.772675Z",
     "shell.execute_reply": "2023-02-27T18:29:55.771732Z"
    },
    "papermill": {
     "duration": 0.034631,
     "end_time": "2023-02-27T18:29:55.775047",
     "exception": false,
     "start_time": "2023-02-27T18:29:55.740416",
     "status": "completed"
    },
    "tags": []
   },
   "outputs": [
    {
     "data": {
      "application/javascript": [
       "parent.postMessage({\"jupyterEvent\": \"custom.exercise_interaction\", \"data\": {\"outcomeType\": 1, \"valueTowardsCompletion\": 0.3333333333333333, \"interactionType\": 1, \"questionType\": 1, \"questionId\": \"2_ReadIn\", \"learnToolsVersion\": \"0.3.4\", \"failureMessage\": \"\", \"exceptionClass\": \"\", \"trace\": \"\"}}, \"*\")"
      ],
      "text/plain": [
       "<IPython.core.display.Javascript object>"
      ]
     },
     "metadata": {},
     "output_type": "display_data"
    },
    {
     "data": {
      "text/markdown": [
       "<span style=\"color:#33cc33\">Correct</span>"
      ],
      "text/plain": [
       "Correct"
      ]
     },
     "metadata": {},
     "output_type": "display_data"
    }
   ],
   "source": [
    "# TODO: Load in the DataFrame correctly.\n",
    "police_killings = pd.read_csv(\"../input/fatal-police-shootings-in-the-us/PoliceKillingsUS.csv\",encoding = 'Windows-1252')\n",
    "\n",
    "# Check your answer\n",
    "q2.check()"
   ]
  },
  {
   "cell_type": "markdown",
   "id": "b14946e0",
   "metadata": {
    "papermill": {
     "duration": 0.005383,
     "end_time": "2023-02-27T18:29:55.786098",
     "exception": false,
     "start_time": "2023-02-27T18:29:55.780715",
     "status": "completed"
    },
    "tags": []
   },
   "source": [
    "Feel free to use any additional code cells for supplemental work.  To get credit for finishing this question, you'll need to run `q2.check()` and get a result of **Correct**."
   ]
  },
  {
   "cell_type": "code",
   "execution_count": 7,
   "id": "87d69ae6",
   "metadata": {
    "execution": {
     "iopub.execute_input": "2023-02-27T18:29:55.800141Z",
     "iopub.status.busy": "2023-02-27T18:29:55.799427Z",
     "iopub.status.idle": "2023-02-27T18:29:55.804618Z",
     "shell.execute_reply": "2023-02-27T18:29:55.803545Z"
    },
    "papermill": {
     "duration": 0.014702,
     "end_time": "2023-02-27T18:29:55.807331",
     "exception": false,
     "start_time": "2023-02-27T18:29:55.792629",
     "status": "completed"
    },
    "tags": []
   },
   "outputs": [],
   "source": [
    "# (Optional) Use this code cell for any additional work."
   ]
  },
  {
   "cell_type": "code",
   "execution_count": 8,
   "id": "ec686172",
   "metadata": {
    "execution": {
     "iopub.execute_input": "2023-02-27T18:29:55.820341Z",
     "iopub.status.busy": "2023-02-27T18:29:55.819960Z",
     "iopub.status.idle": "2023-02-27T18:29:55.829156Z",
     "shell.execute_reply": "2023-02-27T18:29:55.828038Z"
    },
    "papermill": {
     "duration": 0.018759,
     "end_time": "2023-02-27T18:29:55.831750",
     "exception": false,
     "start_time": "2023-02-27T18:29:55.812991",
     "status": "completed"
    },
    "tags": []
   },
   "outputs": [
    {
     "data": {
      "application/javascript": [
       "parent.postMessage({\"jupyterEvent\": \"custom.exercise_interaction\", \"data\": {\"interactionType\": 3, \"questionType\": 1, \"questionId\": \"2_ReadIn\", \"learnToolsVersion\": \"0.3.4\", \"valueTowardsCompletion\": 0.0, \"failureMessage\": \"\", \"exceptionClass\": \"\", \"trace\": \"\", \"outcomeType\": 4}}, \"*\")"
      ],
      "text/plain": [
       "<IPython.core.display.Javascript object>"
      ]
     },
     "metadata": {},
     "output_type": "display_data"
    },
    {
     "data": {
      "text/markdown": [
       "<span style=\"color:#33cc99\">Solution:</span> \n",
       "```python\n",
       "police_killings = pd.read_csv(\"../input/fatal-police-shootings-in-the-us/PoliceKillingsUS.csv\", encoding='Windows-1252')\n",
       "\n",
       "```"
      ],
      "text/plain": [
       "Solution: \n",
       "```python\n",
       "police_killings = pd.read_csv(\"../input/fatal-police-shootings-in-the-us/PoliceKillingsUS.csv\", encoding='Windows-1252')\n",
       "\n",
       "```"
      ]
     },
     "metadata": {},
     "output_type": "display_data"
    }
   ],
   "source": [
    "# Lines below will give you a hint or solution code\n",
    "#q2.hint()\n",
    "q2.solution()"
   ]
  },
  {
   "cell_type": "markdown",
   "id": "64bcdf74",
   "metadata": {
    "papermill": {
     "duration": 0.005699,
     "end_time": "2023-02-27T18:29:55.843488",
     "exception": false,
     "start_time": "2023-02-27T18:29:55.837789",
     "status": "completed"
    },
    "tags": []
   },
   "source": [
    "# 3) Saving your files with UTF-8 encoding\n",
    "\n",
    "Save a version of the police killings dataset to CSV with UTF-8 encoding.  Your answer will be marked correct after saving this file.  \n",
    "\n",
    "Note: When using the `to_csv()` method, supply only the name of the file (e.g., `\"my_file.csv\"`).  This saves the file at the filepath `\"/kaggle/working/my_file.csv\"`."
   ]
  },
  {
   "cell_type": "code",
   "execution_count": 9,
   "id": "bc08a3f0",
   "metadata": {
    "execution": {
     "iopub.execute_input": "2023-02-27T18:29:55.857892Z",
     "iopub.status.busy": "2023-02-27T18:29:55.857452Z",
     "iopub.status.idle": "2023-02-27T18:29:55.894343Z",
     "shell.execute_reply": "2023-02-27T18:29:55.893357Z"
    },
    "papermill": {
     "duration": 0.046701,
     "end_time": "2023-02-27T18:29:55.896909",
     "exception": false,
     "start_time": "2023-02-27T18:29:55.850208",
     "status": "completed"
    },
    "tags": []
   },
   "outputs": [
    {
     "data": {
      "application/javascript": [
       "parent.postMessage({\"jupyterEvent\": \"custom.exercise_interaction\", \"data\": {\"outcomeType\": 1, \"valueTowardsCompletion\": 0.3333333333333333, \"interactionType\": 1, \"questionType\": 2, \"questionId\": \"3_SaveCSV\", \"learnToolsVersion\": \"0.3.4\", \"failureMessage\": \"\", \"exceptionClass\": \"\", \"trace\": \"\"}}, \"*\")"
      ],
      "text/plain": [
       "<IPython.core.display.Javascript object>"
      ]
     },
     "metadata": {},
     "output_type": "display_data"
    },
    {
     "data": {
      "text/markdown": [
       "<span style=\"color:#33cc33\">Correct</span>"
      ],
      "text/plain": [
       "Correct"
      ]
     },
     "metadata": {},
     "output_type": "display_data"
    }
   ],
   "source": [
    "# TODO: Save the police killings dataset to CSV\n",
    "police_killings.to_csv(\"my_file.csv\")\n",
    "\n",
    "\n",
    "# Check your answer\n",
    "q3.check()"
   ]
  },
  {
   "cell_type": "code",
   "execution_count": 10,
   "id": "28b0f649",
   "metadata": {
    "execution": {
     "iopub.execute_input": "2023-02-27T18:29:55.911392Z",
     "iopub.status.busy": "2023-02-27T18:29:55.910733Z",
     "iopub.status.idle": "2023-02-27T18:29:55.919976Z",
     "shell.execute_reply": "2023-02-27T18:29:55.918974Z"
    },
    "papermill": {
     "duration": 0.019289,
     "end_time": "2023-02-27T18:29:55.922321",
     "exception": false,
     "start_time": "2023-02-27T18:29:55.903032",
     "status": "completed"
    },
    "tags": []
   },
   "outputs": [
    {
     "data": {
      "application/javascript": [
       "parent.postMessage({\"jupyterEvent\": \"custom.exercise_interaction\", \"data\": {\"interactionType\": 3, \"questionType\": 2, \"questionId\": \"3_SaveCSV\", \"learnToolsVersion\": \"0.3.4\", \"valueTowardsCompletion\": 0.0, \"failureMessage\": \"\", \"exceptionClass\": \"\", \"trace\": \"\", \"outcomeType\": 4}}, \"*\")"
      ],
      "text/plain": [
       "<IPython.core.display.Javascript object>"
      ]
     },
     "metadata": {},
     "output_type": "display_data"
    },
    {
     "data": {
      "text/markdown": [
       "<span style=\"color:#33cc99\">Solution:</span> \n",
       "```python\n",
       "\n",
       "police_killings.to_csv(\"my_file.csv\")\n",
       "\n",
       "```"
      ],
      "text/plain": [
       "Solution: \n",
       "```python\n",
       "\n",
       "police_killings.to_csv(\"my_file.csv\")\n",
       "\n",
       "```"
      ]
     },
     "metadata": {},
     "output_type": "display_data"
    }
   ],
   "source": [
    "# Lines below will give you a hint or solution code\n",
    "#q3.hint()\n",
    "q3.solution()"
   ]
  },
  {
   "cell_type": "markdown",
   "id": "4c3e87b4",
   "metadata": {
    "papermill": {
     "duration": 0.005956,
     "end_time": "2023-02-27T18:29:55.934684",
     "exception": false,
     "start_time": "2023-02-27T18:29:55.928728",
     "status": "completed"
    },
    "tags": []
   },
   "source": [
    "# (Optional) More practice\n",
    "\n",
    "Check out [this dataset of files in different character encodings](https://www.kaggle.com/rtatman/character-encoding-examples). Can you read in all the files with their original encodings and them save them out as UTF-8 files?\n",
    "\n",
    "If you have a file that's in UTF-8 but has just a couple of weird-looking characters in it, you can try out the [ftfy module](https://ftfy.readthedocs.io/en/latest/#) and see if it helps. \n",
    "\n",
    "# Keep going\n",
    "\n",
    "In the final lesson, learn how to [**clean up inconsistent text entries**](https://www.kaggle.com/alexisbcook/inconsistent-data-entry) in your dataset."
   ]
  },
  {
   "cell_type": "markdown",
   "id": "a7b1179e",
   "metadata": {
    "papermill": {
     "duration": 0.005862,
     "end_time": "2023-02-27T18:29:55.946771",
     "exception": false,
     "start_time": "2023-02-27T18:29:55.940909",
     "status": "completed"
    },
    "tags": []
   },
   "source": [
    "---\n",
    "\n",
    "\n",
    "\n",
    "\n",
    "*Have questions or comments? Visit the [course discussion forum](https://www.kaggle.com/learn/data-cleaning/discussion) to chat with other learners.*"
   ]
  }
 ],
 "metadata": {
  "kernelspec": {
   "display_name": "Python 3",
   "language": "python",
   "name": "python3"
  },
  "language_info": {
   "codemirror_mode": {
    "name": "ipython",
    "version": 3
   },
   "file_extension": ".py",
   "mimetype": "text/x-python",
   "name": "python",
   "nbconvert_exporter": "python",
   "pygments_lexer": "ipython3",
   "version": "3.7.12"
  },
  "papermill": {
   "default_parameters": {},
   "duration": 11.893773,
   "end_time": "2023-02-27T18:29:56.675182",
   "environment_variables": {},
   "exception": null,
   "input_path": "__notebook__.ipynb",
   "output_path": "__notebook__.ipynb",
   "parameters": {},
   "start_time": "2023-02-27T18:29:44.781409",
   "version": "2.4.0"
  }
 },
 "nbformat": 4,
 "nbformat_minor": 5
}
