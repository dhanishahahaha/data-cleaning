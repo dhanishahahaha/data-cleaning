{
 "cells": [
  {
   "cell_type": "markdown",
   "id": "4b5922e5",
   "metadata": {
    "papermill": {
     "duration": 0.005854,
     "end_time": "2023-02-27T18:27:53.993692",
     "exception": false,
     "start_time": "2023-02-27T18:27:53.987838",
     "status": "completed"
    },
    "tags": []
   },
   "source": [
    "**This notebook is an exercise in the [Data Cleaning](https://www.kaggle.com/learn/data-cleaning) course.  You can reference the tutorial at [this link](https://www.kaggle.com/alexisbcook/inconsistent-data-entry).**\n",
    "\n",
    "---\n"
   ]
  },
  {
   "cell_type": "markdown",
   "id": "ecf47f14",
   "metadata": {
    "papermill": {
     "duration": 0.004012,
     "end_time": "2023-02-27T18:27:54.002181",
     "exception": false,
     "start_time": "2023-02-27T18:27:53.998169",
     "status": "completed"
    },
    "tags": []
   },
   "source": [
    "In this exercise, you'll apply what you learned in the **Inconsistent data entry** tutorial.\n",
    "\n",
    "# Setup\n",
    "\n",
    "The questions below will give you feedback on your work. Run the following cell to set up the feedback system."
   ]
  },
  {
   "cell_type": "code",
   "execution_count": 1,
   "id": "0ee7ac05",
   "metadata": {
    "execution": {
     "iopub.execute_input": "2023-02-27T18:27:54.012646Z",
     "iopub.status.busy": "2023-02-27T18:27:54.012287Z",
     "iopub.status.idle": "2023-02-27T18:27:54.175622Z",
     "shell.execute_reply": "2023-02-27T18:27:54.174663Z"
    },
    "papermill": {
     "duration": 0.171165,
     "end_time": "2023-02-27T18:27:54.177705",
     "exception": false,
     "start_time": "2023-02-27T18:27:54.006540",
     "status": "completed"
    },
    "tags": []
   },
   "outputs": [
    {
     "name": "stdout",
     "output_type": "stream",
     "text": [
      "Setup Complete\n"
     ]
    }
   ],
   "source": [
    "from learntools.core import binder\n",
    "binder.bind(globals())\n",
    "from learntools.data_cleaning.ex5 import *\n",
    "print(\"Setup Complete\")"
   ]
  },
  {
   "cell_type": "markdown",
   "id": "253db75a",
   "metadata": {
    "papermill": {
     "duration": 0.00437,
     "end_time": "2023-02-27T18:27:54.186844",
     "exception": false,
     "start_time": "2023-02-27T18:27:54.182474",
     "status": "completed"
    },
    "tags": []
   },
   "source": [
    "# Get our environment set up\n",
    "\n",
    "The first thing we'll need to do is load in the libraries and dataset we'll be using.  We use the same dataset from the tutorial."
   ]
  },
  {
   "cell_type": "code",
   "execution_count": 2,
   "id": "27fc53b7",
   "metadata": {
    "execution": {
     "iopub.execute_input": "2023-02-27T18:27:54.197278Z",
     "iopub.status.busy": "2023-02-27T18:27:54.196888Z",
     "iopub.status.idle": "2023-02-27T18:27:54.209061Z",
     "shell.execute_reply": "2023-02-27T18:27:54.208136Z"
    },
    "papermill": {
     "duration": 0.019689,
     "end_time": "2023-02-27T18:27:54.210947",
     "exception": false,
     "start_time": "2023-02-27T18:27:54.191258",
     "status": "completed"
    },
    "tags": []
   },
   "outputs": [],
   "source": [
    "# modules we'll use\n",
    "import pandas as pd\n",
    "import numpy as np\n",
    "\n",
    "# helpful modules\n",
    "import fuzzywuzzy\n",
    "from fuzzywuzzy import process\n",
    "import charset_normalizer\n",
    "\n",
    "# read in all our data\n",
    "professors = pd.read_csv(\"../input/pakistan-intellectual-capital/pakistan_intellectual_capital.csv\")\n",
    "\n",
    "# set seed for reproducibility\n",
    "np.random.seed(0)"
   ]
  },
  {
   "cell_type": "markdown",
   "id": "16085010",
   "metadata": {
    "papermill": {
     "duration": 0.004189,
     "end_time": "2023-02-27T18:27:54.219628",
     "exception": false,
     "start_time": "2023-02-27T18:27:54.215439",
     "status": "completed"
    },
    "tags": []
   },
   "source": [
    "Next, we'll redo all of the work that we did in the tutorial."
   ]
  },
  {
   "cell_type": "code",
   "execution_count": 3,
   "id": "a6d5b3d8",
   "metadata": {
    "execution": {
     "iopub.execute_input": "2023-02-27T18:27:54.230363Z",
     "iopub.status.busy": "2023-02-27T18:27:54.229492Z",
     "iopub.status.idle": "2023-02-27T18:27:54.242670Z",
     "shell.execute_reply": "2023-02-27T18:27:54.241690Z"
    },
    "papermill": {
     "duration": 0.020706,
     "end_time": "2023-02-27T18:27:54.244649",
     "exception": false,
     "start_time": "2023-02-27T18:27:54.223943",
     "status": "completed"
    },
    "tags": []
   },
   "outputs": [
    {
     "name": "stdout",
     "output_type": "stream",
     "text": [
      "All done!\n"
     ]
    }
   ],
   "source": [
    "# convert to lower case\n",
    "professors['Country'] = professors['Country'].str.lower()\n",
    "# remove trailing white spaces\n",
    "professors['Country'] = professors['Country'].str.strip()\n",
    "\n",
    "# get the top 10 closest matches to \"south korea\"\n",
    "countries = professors['Country'].unique()\n",
    "matches = fuzzywuzzy.process.extract(\"south korea\", countries, limit=10, scorer=fuzzywuzzy.fuzz.token_sort_ratio)\n",
    "\n",
    "def replace_matches_in_column(df, column, string_to_match, min_ratio = 47):\n",
    "    # get a list of unique strings\n",
    "    strings = df[column].unique()\n",
    "    \n",
    "    # get the top 10 closest matches to our input string\n",
    "    matches = fuzzywuzzy.process.extract(string_to_match, strings, \n",
    "                                         limit=10, scorer=fuzzywuzzy.fuzz.token_sort_ratio)\n",
    "\n",
    "    # only get matches with a ratio > 90\n",
    "    close_matches = [matches[0] for matches in matches if matches[1] >= min_ratio]\n",
    "\n",
    "    # get the rows of all the close matches in our dataframe\n",
    "    rows_with_matches = df[column].isin(close_matches)\n",
    "\n",
    "    # replace all rows with close matches with the input matches \n",
    "    df.loc[rows_with_matches, column] = string_to_match\n",
    "    \n",
    "    # let us know the function's done\n",
    "    print(\"All done!\")\n",
    "    \n",
    "replace_matches_in_column(df=professors, column='Country', string_to_match=\"south korea\")\n",
    "countries = professors['Country'].unique()"
   ]
  },
  {
   "cell_type": "markdown",
   "id": "17a9a890",
   "metadata": {
    "papermill": {
     "duration": 0.004241,
     "end_time": "2023-02-27T18:27:54.253408",
     "exception": false,
     "start_time": "2023-02-27T18:27:54.249167",
     "status": "completed"
    },
    "tags": []
   },
   "source": [
    "# 1) Examine another column\n",
    "\n",
    "Write code below to take a look at all the unique values in the \"Graduated from\" column."
   ]
  },
  {
   "cell_type": "code",
   "execution_count": 4,
   "id": "f493da86",
   "metadata": {
    "execution": {
     "iopub.execute_input": "2023-02-27T18:27:54.263758Z",
     "iopub.status.busy": "2023-02-27T18:27:54.263424Z",
     "iopub.status.idle": "2023-02-27T18:27:54.268159Z",
     "shell.execute_reply": "2023-02-27T18:27:54.267182Z"
    },
    "papermill": {
     "duration": 0.012316,
     "end_time": "2023-02-27T18:27:54.270070",
     "exception": false,
     "start_time": "2023-02-27T18:27:54.257754",
     "status": "completed"
    },
    "tags": []
   },
   "outputs": [],
   "source": [
    "# TODO: Your code here\n",
    "unis = professors['Graduated from'].unique()"
   ]
  },
  {
   "cell_type": "markdown",
   "id": "d7b12349",
   "metadata": {
    "papermill": {
     "duration": 0.004369,
     "end_time": "2023-02-27T18:27:54.279537",
     "exception": false,
     "start_time": "2023-02-27T18:27:54.275168",
     "status": "completed"
    },
    "tags": []
   },
   "source": [
    "Do you notice any inconsistencies in the data?  Can any of the inconsistencies in the data be fixed by removing white spaces at the beginning and end of cells?\n",
    "\n",
    "Once you have answered these questions, run the code cell below to get credit for your work."
   ]
  },
  {
   "cell_type": "code",
   "execution_count": 5,
   "id": "2c114646",
   "metadata": {
    "execution": {
     "iopub.execute_input": "2023-02-27T18:27:54.291400Z",
     "iopub.status.busy": "2023-02-27T18:27:54.290718Z",
     "iopub.status.idle": "2023-02-27T18:27:54.299343Z",
     "shell.execute_reply": "2023-02-27T18:27:54.298388Z"
    },
    "papermill": {
     "duration": 0.017174,
     "end_time": "2023-02-27T18:27:54.301192",
     "exception": false,
     "start_time": "2023-02-27T18:27:54.284018",
     "status": "completed"
    },
    "tags": []
   },
   "outputs": [
    {
     "data": {
      "application/javascript": [
       "parent.postMessage({\"jupyterEvent\": \"custom.exercise_interaction\", \"data\": {\"outcomeType\": 1, \"valueTowardsCompletion\": 0.3333333333333333, \"interactionType\": 1, \"questionType\": 4, \"questionId\": \"1_ExamineProvince\", \"learnToolsVersion\": \"0.3.4\", \"failureMessage\": \"\", \"exceptionClass\": \"\", \"trace\": \"\"}}, \"*\")"
      ],
      "text/plain": [
       "<IPython.core.display.Javascript object>"
      ]
     },
     "metadata": {},
     "output_type": "display_data"
    },
    {
     "data": {
      "text/markdown": [
       "<span style=\"color:#33cc33\">Correct:</span> \n",
       "\n",
       "There are inconsistencies that can be fixed by removing white spaces at the beginning and end of cells.  For instance, \"University of Central Florida\" and \" University of Central Florida\" both appear in the column."
      ],
      "text/plain": [
       "Correct: \n",
       "\n",
       "There are inconsistencies that can be fixed by removing white spaces at the beginning and end of cells.  For instance, \"University of Central Florida\" and \" University of Central Florida\" both appear in the column."
      ]
     },
     "metadata": {},
     "output_type": "display_data"
    }
   ],
   "source": [
    "# Check your answer (Run this code cell to receive credit!)\n",
    "q1.check()"
   ]
  },
  {
   "cell_type": "code",
   "execution_count": 6,
   "id": "983e2245",
   "metadata": {
    "execution": {
     "iopub.execute_input": "2023-02-27T18:27:54.312558Z",
     "iopub.status.busy": "2023-02-27T18:27:54.312230Z",
     "iopub.status.idle": "2023-02-27T18:27:54.319625Z",
     "shell.execute_reply": "2023-02-27T18:27:54.318681Z"
    },
    "papermill": {
     "duration": 0.015214,
     "end_time": "2023-02-27T18:27:54.321421",
     "exception": false,
     "start_time": "2023-02-27T18:27:54.306207",
     "status": "completed"
    },
    "tags": []
   },
   "outputs": [
    {
     "data": {
      "application/javascript": [
       "parent.postMessage({\"jupyterEvent\": \"custom.exercise_interaction\", \"data\": {\"interactionType\": 2, \"questionType\": 4, \"questionId\": \"1_ExamineProvince\", \"learnToolsVersion\": \"0.3.4\", \"valueTowardsCompletion\": 0.0, \"failureMessage\": \"\", \"exceptionClass\": \"\", \"trace\": \"\", \"outcomeType\": 4}}, \"*\")"
      ],
      "text/plain": [
       "<IPython.core.display.Javascript object>"
      ]
     },
     "metadata": {},
     "output_type": "display_data"
    },
    {
     "data": {
      "text/markdown": [
       "<span style=\"color:#3366cc\">Hint:</span> Use `unis = professors['Graduated from'].unique()` to take a look at the unique values in the 'Graduated from' column. You may find it useful to sort the data before printing it."
      ],
      "text/plain": [
       "Hint: Use `unis = professors['Graduated from'].unique()` to take a look at the unique values in the 'Graduated from' column. You may find it useful to sort the data before printing it."
      ]
     },
     "metadata": {},
     "output_type": "display_data"
    }
   ],
   "source": [
    "# Line below will give you a hint\n",
    "q1.hint()"
   ]
  },
  {
   "cell_type": "markdown",
   "id": "1b36673e",
   "metadata": {
    "papermill": {
     "duration": 0.004653,
     "end_time": "2023-02-27T18:27:54.331174",
     "exception": false,
     "start_time": "2023-02-27T18:27:54.326521",
     "status": "completed"
    },
    "tags": []
   },
   "source": [
    "# 2) Do some text pre-processing\n",
    "\n",
    "Convert every entry in the \"Graduated from\" column in the `professors` DataFrame to remove white spaces at the beginning and end of cells."
   ]
  },
  {
   "cell_type": "code",
   "execution_count": 7,
   "id": "1891f980",
   "metadata": {
    "execution": {
     "iopub.execute_input": "2023-02-27T18:27:54.343983Z",
     "iopub.status.busy": "2023-02-27T18:27:54.343353Z",
     "iopub.status.idle": "2023-02-27T18:27:54.355845Z",
     "shell.execute_reply": "2023-02-27T18:27:54.354865Z"
    },
    "papermill": {
     "duration": 0.021663,
     "end_time": "2023-02-27T18:27:54.357832",
     "exception": false,
     "start_time": "2023-02-27T18:27:54.336169",
     "status": "completed"
    },
    "tags": []
   },
   "outputs": [
    {
     "data": {
      "application/javascript": [
       "parent.postMessage({\"jupyterEvent\": \"custom.exercise_interaction\", \"data\": {\"outcomeType\": 1, \"valueTowardsCompletion\": 0.3333333333333333, \"interactionType\": 1, \"questionType\": 1, \"questionId\": \"2_TextProcessing\", \"learnToolsVersion\": \"0.3.4\", \"failureMessage\": \"\", \"exceptionClass\": \"\", \"trace\": \"\"}}, \"*\")"
      ],
      "text/plain": [
       "<IPython.core.display.Javascript object>"
      ]
     },
     "metadata": {},
     "output_type": "display_data"
    },
    {
     "data": {
      "text/markdown": [
       "<span style=\"color:#33cc33\">Correct</span>"
      ],
      "text/plain": [
       "Correct"
      ]
     },
     "metadata": {},
     "output_type": "display_data"
    }
   ],
   "source": [
    "# TODO: Your code here\n",
    "professors['Graduated from'] = professors['Graduated from'].str.strip()\n",
    "\n",
    "# Check your answer\n",
    "q2.check()"
   ]
  },
  {
   "cell_type": "code",
   "execution_count": 8,
   "id": "8367f5e8",
   "metadata": {
    "execution": {
     "iopub.execute_input": "2023-02-27T18:27:54.370507Z",
     "iopub.status.busy": "2023-02-27T18:27:54.369649Z",
     "iopub.status.idle": "2023-02-27T18:27:54.376760Z",
     "shell.execute_reply": "2023-02-27T18:27:54.375981Z"
    },
    "papermill": {
     "duration": 0.015402,
     "end_time": "2023-02-27T18:27:54.378541",
     "exception": false,
     "start_time": "2023-02-27T18:27:54.363139",
     "status": "completed"
    },
    "tags": []
   },
   "outputs": [
    {
     "data": {
      "application/javascript": [
       "parent.postMessage({\"jupyterEvent\": \"custom.exercise_interaction\", \"data\": {\"interactionType\": 3, \"questionType\": 1, \"questionId\": \"2_TextProcessing\", \"learnToolsVersion\": \"0.3.4\", \"valueTowardsCompletion\": 0.0, \"failureMessage\": \"\", \"exceptionClass\": \"\", \"trace\": \"\", \"outcomeType\": 4}}, \"*\")"
      ],
      "text/plain": [
       "<IPython.core.display.Javascript object>"
      ]
     },
     "metadata": {},
     "output_type": "display_data"
    },
    {
     "data": {
      "text/markdown": [
       "<span style=\"color:#33cc99\">Solution:</span> \n",
       "```python\n",
       "professors['Graduated from'] = professors['Graduated from'].str.strip()\n",
       "\n",
       "```"
      ],
      "text/plain": [
       "Solution: \n",
       "```python\n",
       "professors['Graduated from'] = professors['Graduated from'].str.strip()\n",
       "\n",
       "```"
      ]
     },
     "metadata": {},
     "output_type": "display_data"
    }
   ],
   "source": [
    "# Lines below will give you a hint or solution code\n",
    "#q2.hint()\n",
    "q2.solution()"
   ]
  },
  {
   "cell_type": "markdown",
   "id": "a29c322e",
   "metadata": {
    "papermill": {
     "duration": 0.005109,
     "end_time": "2023-02-27T18:27:54.389168",
     "exception": false,
     "start_time": "2023-02-27T18:27:54.384059",
     "status": "completed"
    },
    "tags": []
   },
   "source": [
    "# 3) Continue working with countries\n",
    "\n",
    "In the tutorial, we focused on cleaning up inconsistencies in the \"Country\" column.  Run the code cell below to view the list of unique values that we ended with."
   ]
  },
  {
   "cell_type": "code",
   "execution_count": 9,
   "id": "f2028711",
   "metadata": {
    "execution": {
     "iopub.execute_input": "2023-02-27T18:27:54.401779Z",
     "iopub.status.busy": "2023-02-27T18:27:54.401214Z",
     "iopub.status.idle": "2023-02-27T18:27:54.407718Z",
     "shell.execute_reply": "2023-02-27T18:27:54.406813Z"
    },
    "papermill": {
     "duration": 0.015235,
     "end_time": "2023-02-27T18:27:54.409728",
     "exception": false,
     "start_time": "2023-02-27T18:27:54.394493",
     "status": "completed"
    },
    "tags": []
   },
   "outputs": [
    {
     "data": {
      "text/plain": [
       "array(['australia', 'austria', 'canada', 'china', 'finland', 'france',\n",
       "       'germany', 'greece', 'hongkong', 'ireland', 'italy', 'japan',\n",
       "       'macau', 'malaysia', 'mauritius', 'netherland', 'new zealand',\n",
       "       'norway', 'pakistan', 'portugal', 'russian federation',\n",
       "       'saudi arabia', 'scotland', 'singapore', 'south korea', 'spain',\n",
       "       'sweden', 'thailand', 'turkey', 'uk', 'urbana', 'usa', 'usofa'],\n",
       "      dtype=object)"
      ]
     },
     "execution_count": 9,
     "metadata": {},
     "output_type": "execute_result"
    }
   ],
   "source": [
    "# get all the unique values in the 'City' column\n",
    "countries = professors['Country'].unique()\n",
    "\n",
    "# sort them alphabetically and then take a closer look\n",
    "countries.sort()\n",
    "countries"
   ]
  },
  {
   "cell_type": "markdown",
   "id": "6ca43243",
   "metadata": {
    "papermill": {
     "duration": 0.005218,
     "end_time": "2023-02-27T18:27:54.420684",
     "exception": false,
     "start_time": "2023-02-27T18:27:54.415466",
     "status": "completed"
    },
    "tags": []
   },
   "source": [
    "Take another look at the \"Country\" column and see if there's any more data cleaning we need to do.\n",
    "\n",
    "It looks like 'usa' and 'usofa' should be the same country.  Correct the \"Country\" column in the dataframe to replace 'usofa' with 'usa'.\n",
    "\n",
    "**Use the most recent version of the DataFrame (with the whitespaces at the beginning and end of cells removed) from question 2.**"
   ]
  },
  {
   "cell_type": "code",
   "execution_count": 10,
   "id": "e07da8a3",
   "metadata": {
    "execution": {
     "iopub.execute_input": "2023-02-27T18:27:54.433565Z",
     "iopub.status.busy": "2023-02-27T18:27:54.433112Z",
     "iopub.status.idle": "2023-02-27T18:27:54.446859Z",
     "shell.execute_reply": "2023-02-27T18:27:54.445219Z"
    },
    "papermill": {
     "duration": 0.023467,
     "end_time": "2023-02-27T18:27:54.449688",
     "exception": false,
     "start_time": "2023-02-27T18:27:54.426221",
     "status": "completed"
    },
    "tags": []
   },
   "outputs": [
    {
     "name": "stdout",
     "output_type": "stream",
     "text": [
      "All done!\n"
     ]
    },
    {
     "data": {
      "application/javascript": [
       "parent.postMessage({\"jupyterEvent\": \"custom.exercise_interaction\", \"data\": {\"outcomeType\": 1, \"valueTowardsCompletion\": 0.3333333333333333, \"interactionType\": 1, \"questionType\": 1, \"questionId\": \"3_WorkingWithCities\", \"learnToolsVersion\": \"0.3.4\", \"failureMessage\": \"\", \"exceptionClass\": \"\", \"trace\": \"\"}}, \"*\")"
      ],
      "text/plain": [
       "<IPython.core.display.Javascript object>"
      ]
     },
     "metadata": {},
     "output_type": "display_data"
    },
    {
     "data": {
      "text/markdown": [
       "<span style=\"color:#33cc33\">Correct</span>"
      ],
      "text/plain": [
       "Correct"
      ]
     },
     "metadata": {},
     "output_type": "display_data"
    }
   ],
   "source": [
    "# TODO: Your code here!\n",
    "matches = fuzzywuzzy.process.extract(\"usa\", countries, limit=10, scorer=fuzzywuzzy.fuzz.token_sort_ratio)\n",
    "replace_matches_in_column(df=professors, column='Country', string_to_match=\"usa\", min_ratio=70)\n",
    "\n",
    "\n",
    "# Check your answer\n",
    "q3.check()"
   ]
  },
  {
   "cell_type": "code",
   "execution_count": 11,
   "id": "a7c67ced",
   "metadata": {
    "execution": {
     "iopub.execute_input": "2023-02-27T18:27:54.464122Z",
     "iopub.status.busy": "2023-02-27T18:27:54.463343Z",
     "iopub.status.idle": "2023-02-27T18:27:54.471850Z",
     "shell.execute_reply": "2023-02-27T18:27:54.470619Z"
    },
    "papermill": {
     "duration": 0.018836,
     "end_time": "2023-02-27T18:27:54.474799",
     "exception": false,
     "start_time": "2023-02-27T18:27:54.455963",
     "status": "completed"
    },
    "tags": []
   },
   "outputs": [
    {
     "data": {
      "application/javascript": [
       "parent.postMessage({\"jupyterEvent\": \"custom.exercise_interaction\", \"data\": {\"interactionType\": 3, \"questionType\": 1, \"questionId\": \"3_WorkingWithCities\", \"learnToolsVersion\": \"0.3.4\", \"valueTowardsCompletion\": 0.0, \"failureMessage\": \"\", \"exceptionClass\": \"\", \"trace\": \"\", \"outcomeType\": 4}}, \"*\")"
      ],
      "text/plain": [
       "<IPython.core.display.Javascript object>"
      ]
     },
     "metadata": {},
     "output_type": "display_data"
    },
    {
     "data": {
      "text/markdown": [
       "<span style=\"color:#33cc99\">Solution:</span> \n",
       "```python\n",
       "matches = fuzzywuzzy.process.extract(\"usa\", countries, limit=10, scorer=fuzzywuzzy.fuzz.token_sort_ratio)\n",
       "replace_matches_in_column(df=professors, column='Country', string_to_match=\"usa\", min_ratio=70)\n",
       "\n",
       "```"
      ],
      "text/plain": [
       "Solution: \n",
       "```python\n",
       "matches = fuzzywuzzy.process.extract(\"usa\", countries, limit=10, scorer=fuzzywuzzy.fuzz.token_sort_ratio)\n",
       "replace_matches_in_column(df=professors, column='Country', string_to_match=\"usa\", min_ratio=70)\n",
       "\n",
       "```"
      ]
     },
     "metadata": {},
     "output_type": "display_data"
    }
   ],
   "source": [
    "# Lines below will give you a hint or solution code\n",
    "#q3.hint()\n",
    "q3.solution()"
   ]
  },
  {
   "cell_type": "markdown",
   "id": "45e00213",
   "metadata": {
    "papermill": {
     "duration": 0.005812,
     "end_time": "2023-02-27T18:27:54.486874",
     "exception": false,
     "start_time": "2023-02-27T18:27:54.481062",
     "status": "completed"
    },
    "tags": []
   },
   "source": [
    "# Congratulations!\n",
    "\n",
    "Congratulations for completing the **Data Cleaning** course on Kaggle Learn!\n",
    "\n",
    "To practice your new skills, you're encouraged to download and investigate some of [Kaggle's Datasets](https://www.kaggle.com/datasets)."
   ]
  },
  {
   "cell_type": "markdown",
   "id": "5fe4c3f1",
   "metadata": {
    "papermill": {
     "duration": 0.005537,
     "end_time": "2023-02-27T18:27:54.498276",
     "exception": false,
     "start_time": "2023-02-27T18:27:54.492739",
     "status": "completed"
    },
    "tags": []
   },
   "source": [
    "---\n",
    "\n",
    "\n",
    "\n",
    "\n",
    "*Have questions or comments? Visit the [course discussion forum](https://www.kaggle.com/learn/data-cleaning/discussion) to chat with other learners.*"
   ]
  }
 ],
 "metadata": {
  "kernelspec": {
   "display_name": "Python 3",
   "language": "python",
   "name": "python3"
  },
  "language_info": {
   "codemirror_mode": {
    "name": "ipython",
    "version": 3
   },
   "file_extension": ".py",
   "mimetype": "text/x-python",
   "name": "python",
   "nbconvert_exporter": "python",
   "pygments_lexer": "ipython3",
   "version": "3.7.12"
  },
  "papermill": {
   "default_parameters": {},
   "duration": 10.507491,
   "end_time": "2023-02-27T18:27:55.124701",
   "environment_variables": {},
   "exception": null,
   "input_path": "__notebook__.ipynb",
   "output_path": "__notebook__.ipynb",
   "parameters": {},
   "start_time": "2023-02-27T18:27:44.617210",
   "version": "2.4.0"
  }
 },
 "nbformat": 4,
 "nbformat_minor": 5
}
